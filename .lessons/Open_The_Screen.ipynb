{
 "cells": [
  {
   "cell_type": "markdown",
   "metadata": {},
   "source": [
    "\n",
    "## Open a Virtual Screen on the Web\n",
    "\n",
    "If you started your editor as a Codespace on Github, that is, you clicked\n",
    "on a button like <img style=\"vertical-align:middle\" src=\"https://images.jointheleague.org/vscode/create_codespace.png\" height=\"25px\" > \n",
    "to start your editor, then you need to follow these steps to open a virtual screen. \n",
    "Your Codespace is running your code in a data center far away, and it doesn't have a screen,\n",
    "so if you want to see your program output, you have to create a virtual screen. \n",
    "\n",
    "In the bottom pane of the VSCode window, click on the \"PORTS\" tab. ( If you don't see a \n",
    "\"PORTS\" tab, you probably can skip this step. )\n",
    "\n",
    "<center><img src=\"https://images.jointheleague.org/module-navigation/ports_pane.png\" width=\"600px\"></center>\n",
    "\n",
    "Hover over the \"Forwarded Address\" for port 6080. You will see a small icon\n",
    "that looks like  <img style=\"vertical-align:middle\" src=\"https://images.jointheleague.org/vscode/browser_pane.png\" height=\"25px\" >. Click on it. This will\n",
    "open a new browser window with a \"noVNC\" logo. \n",
    "\n",
    "You might need to drag the browser window to the right side of the screen. Your\n",
    "screen should look something like:\n",
    "\n",
    "<center><img src=\"https://images.jointheleague.org/module-navigation/browser_window.png\" width=\"600px\"></center>\n",
    "\n",
    "Click on \"Connect\". If it asks for a password,  enter the passwod: \"code4life\"\n",
    "\n",
    "Troubleshooting: if the \"Simple Browser\" pane takes up the whole editor area,\n",
    "try grabing the  \"Simple Browser\" tab and drag it to the right side of the\n",
    "window; there should be a pale-blue shadow that shows where the pane will go. If\n",
    "it looks like the browser window is not loading, try clicking the circular\n",
    "reload icon at the top of the window. \n",
    "\n",
    "Now you have a virtual screen running. When your program writes to the screen, it will show up in this window. \n",
    "\n"
   ]
  }
 ],
 "metadata": {
  "kernelspec": {
   "display_name": ".venv",
   "language": "python",
   "name": "python3"
  },
  "language_info": {
   "codemirror_mode": {
    "name": "ipython",
    "version": 3
   },
   "file_extension": ".py",
   "mimetype": "text/x-python",
   "name": "python",
   "nbconvert_exporter": "python",
   "pygments_lexer": "ipython3",
   "version": "3.12.0"
  }
 },
 "nbformat": 4,
 "nbformat_minor": 4
}
