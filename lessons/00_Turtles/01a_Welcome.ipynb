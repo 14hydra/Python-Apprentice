{
 "cells": [
  {
   "cell_type": "markdown",
   "metadata": {},
   "source": [
    "# Getting Started with Python\n",
    "\n",
    "This is the first formal lesson of your first Python class with the Leage of\n",
    "Amazing Programmers. To follow these lessons, you should be reading this file in\n",
    "Visual Studio Code if you are on your own computer, or if you are using a\n",
    "website, it should be Github Codespaces.\n",
    "\n",
    "We will be writing programs in Python, and starting with turtle programming, which is a fun way to learn programming because you will be drawing pictures like this:\n",
    "\n",
    "<div style=\"text-align: center;\">\n",
    "    <img src=\"images/spiral.png\" alt=\"spiral\" style=\"width:500px;\">\n",
    "</div>\n",
    "\n",
    "It's called turtle programming because you are controlling a turtle that moves around the screen drawing lines. You can make the turtle move forward, turn left or right, and change the color of the lines it draws.\n",
    "\n",
    "However, before we start, we need to setup a few things, so let's move to the next lesson to get started. \n"
   ]
  }
 ],
 "metadata": {
  "kernelspec": {
   "display_name": ".venv",
   "language": "python",
   "name": "python3"
  },
  "language_info": {
   "codemirror_mode": {
    "name": "ipython",
    "version": 3
   },
   "file_extension": ".py",
   "mimetype": "text/x-python",
   "name": "python",
   "nbconvert_exporter": "python",
   "pygments_lexer": "ipython3",
   "version": "3.12.0"
  }
 },
 "nbformat": 4,
 "nbformat_minor": 4
}
